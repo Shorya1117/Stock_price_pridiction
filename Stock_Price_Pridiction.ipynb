{
 "cells": [
  {
   "cell_type": "code",
   "execution_count": 6,
   "metadata": {
    "colab": {
     "base_uri": "https://localhost:8080/",
     "height": 522
    },
    "executionInfo": {
     "elapsed": 10167,
     "status": "ok",
     "timestamp": 1743596696678,
     "user": {
      "displayName": "sahil sahil",
      "userId": "02720178742856727807"
     },
     "user_tz": -330
    },
    "id": "kHl0eeKdU-_E",
    "outputId": "4bee6f11-cce8-4948-cec6-60f8f52d9851"
   },
   "outputs": [
    {
     "ename": "ModuleNotFoundError",
     "evalue": "No module named 'sklearn'",
     "output_type": "error",
     "traceback": [
      "\u001b[1;31m---------------------------------------------------------------------------\u001b[0m",
      "\u001b[1;31mModuleNotFoundError\u001b[0m                       Traceback (most recent call last)",
      "Cell \u001b[1;32mIn[6], line 4\u001b[0m\n\u001b[0;32m      2\u001b[0m \u001b[38;5;28;01mimport\u001b[39;00m\u001b[38;5;250m \u001b[39m\u001b[38;5;21;01mnumpy\u001b[39;00m\u001b[38;5;250m \u001b[39m\u001b[38;5;28;01mas\u001b[39;00m\u001b[38;5;250m \u001b[39m\u001b[38;5;21;01mnp\u001b[39;00m\n\u001b[0;32m      3\u001b[0m \u001b[38;5;28;01mimport\u001b[39;00m\u001b[38;5;250m \u001b[39m\u001b[38;5;21;01mmatplotlib\u001b[39;00m\u001b[38;5;21;01m.\u001b[39;00m\u001b[38;5;21;01mpyplot\u001b[39;00m\u001b[38;5;250m \u001b[39m\u001b[38;5;28;01mas\u001b[39;00m\u001b[38;5;250m \u001b[39m\u001b[38;5;21;01mplt\u001b[39;00m\n\u001b[1;32m----> 4\u001b[0m \u001b[38;5;28;01mfrom\u001b[39;00m\u001b[38;5;250m \u001b[39m\u001b[38;5;21;01msklearn\u001b[39;00m\u001b[38;5;21;01m.\u001b[39;00m\u001b[38;5;21;01mmodel_selection\u001b[39;00m\u001b[38;5;250m \u001b[39m\u001b[38;5;28;01mimport\u001b[39;00m train_test_split \n\u001b[0;32m      5\u001b[0m \u001b[38;5;28;01mfrom\u001b[39;00m\u001b[38;5;250m \u001b[39m\u001b[38;5;21;01msklearn\u001b[39;00m\u001b[38;5;21;01m.\u001b[39;00m\u001b[38;5;21;01mlinear_model\u001b[39;00m\u001b[38;5;250m \u001b[39m\u001b[38;5;28;01mimport\u001b[39;00m LinearRegression \n\u001b[0;32m      7\u001b[0m industry \u001b[38;5;241m=\u001b[39m \u001b[38;5;28minput\u001b[39m(\u001b[38;5;124m\"\u001b[39m\u001b[38;5;124mEnter a industry name: \u001b[39m\u001b[38;5;124m\"\u001b[39m)\n",
      "\u001b[1;31mModuleNotFoundError\u001b[0m: No module named 'sklearn'"
     ]
    }
   ],
   "source": [
    "import pandas as pd\n",
    "import numpy as np\n",
    "import matplotlib.pyplot as plt\n",
    "from sklearn.model_selection import train_test_split \n",
    "from sklearn.linear_model import LinearRegression \n",
    "\n",
    "industry = input(\"Enter a industry name: \")\n",
    "file_path = \"./\"+industry+\".csv\"\n",
    "df=pd.read_csv(file_path)\n",
    "\n",
    "df['Date']=pd.to_datetime(df['Date'],format='%d-%m-%Y')\n",
    "\n",
    "def clean_numeric(value):\n",
    "    return float(value.replace(',','')) if isinstance(value,str) else value\n",
    "\n",
    "numeric_cols=['Price','Open','High','Low']\n",
    "for col in numeric_cols:\n",
    "    df[col]=df[col].apply(clean_numeric)\n",
    "\n",
    "def convert_volume(value):\n",
    "    if isinstance(value,str):\n",
    "        value=value.strip()\n",
    "        if value.endswith('M'):\n",
    "            return float(value[:-1])*1_000_000\n",
    "        elif value.endswith('K'):\n",
    "            return float(value[:-1])*1_000\n",
    "        elif value.replace(',','').isdigit():\n",
    "            return float(value.replace(',',''))\n",
    "    return None\n",
    "\n",
    "df['Vol.']=df['Vol.'].apply(convert_volume)\n",
    "\n",
    "df.dropna(subset=numeric_cols+['Vol.'],inplace=True)\n",
    "\n",
    "x=df[['Open','High','Low','Vol.']]\n",
    "y=df['Price']\n",
    "\n",
    "x_train,x_test,y_train,y_test=train_test_split(x,y,test_size=0.2,random_state=42)\n",
    "\n",
    "regressor=LinearRegression()\n",
    "regressor.fit(x_train,y_train)\n",
    "\n",
    "y_pred=regressor.predict(x_test)\n",
    "\n",
    "results=pd.DataFrame({'Actual':y_test,'Predicted':y_pred})\n",
    "results_sorted=results.sort_values(\"Actual\")\n",
    "\n",
    "plt.figure(figsize=(10,5))\n",
    "plt.plot(range(len(results_sorted)),results_sorted['Actual'],label=\"Actual Price\",color='blue')\n",
    "plt.plot(range(len(results_sorted)),results_sorted['Predicted'],label=\"Predicted Price\",color='red',linestyle='dashed')\n",
    "plt.xlabel(\"Time\")\n",
    "plt.ylabel(\"Stock Closing Price\")\n",
    "plt.title(\"Actual vs Predicted Stock Price\")\n",
    "plt.legend()\n",
    "plt.show()\n",
    "\n",
    "print(f\"Model R² Score:{regressor.score(x_test,y_test)}\")"
   ]
  },
  {
   "cell_type": "code",
   "execution_count": null,
   "metadata": {
    "id": "jwjQLBrMVwJz"
   },
   "outputs": [],
   "source": []
  }
 ],
 "metadata": {
  "colab": {
   "authorship_tag": "ABX9TyMHi2qH/D9F8rfb29+IehwJ",
   "provenance": []
  },
  "kernelspec": {
   "display_name": "Python 3",
   "name": "python3"
  },
  "language_info": {
   "codemirror_mode": {
    "name": "ipython",
    "version": 3
   },
   "file_extension": ".py",
   "mimetype": "text/x-python",
   "name": "python",
   "nbconvert_exporter": "python",
   "pygments_lexer": "ipython3",
   "version": "3.13.1"
  }
 },
 "nbformat": 4,
 "nbformat_minor": 0
}
